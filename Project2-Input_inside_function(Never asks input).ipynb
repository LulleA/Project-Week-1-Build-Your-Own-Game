{
 "cells": [
  {
   "cell_type": "code",
   "execution_count": 2,
   "metadata": {},
   "outputs": [],
   "source": [
    "import random\n",
    "import string"
   ]
  },
  {
   "cell_type": "code",
   "execution_count": 18,
   "metadata": {},
   "outputs": [],
   "source": [
    "def random_password():\n",
    "    password_length = int(input(\"Input the number of characters for your password: \"))\n",
    "    letter_boolean = input(\"Do you want letters in your password? True or False? (Caps sensitive) \" )\n",
    "    number_boolean = input(\"Do you want numbers in your password? True or False? (Caps sensitive) \" )\n",
    "    special_boolean = input(\"Do you want special characters in your password? True or False? (Caps sensitive) \" )\n",
    "    unique_password = input(\"Do you only want unique characters in your password? True or False? (Caps sensitive) \" )\n",
    "\n",
    "    stored_password = []\n",
    "    all_characters = string.ascii_letters + string.digits + string.punctuation\n",
    "    letter_and_number = string.ascii_letters + string.digits\n",
    "    letter_and_special = string.ascii_letters + string.punctuation\n",
    "    number_and_special = string.digits + string.punctuation\n",
    "    \n",
    "    for i in range(password_length):\n",
    "        #check each possible combination of boolean if they are true or false\n",
    "        if letter_boolean ==\"True\" and number_boolean ==\"True\" and special_boolean ==\"True\" and unique_password ==\"True\":\n",
    "            stored_password.append(random.sample(all_characters))\n",
    "        elif letter_boolean ==\"True\" and number_boolean ==\"True\" and special_boolean ==\"True\" and unique_password ==\"False\":\n",
    "            stored_password.append(random.choice(all_characters))\n",
    "            \n",
    "        elif letter_boolean ==\"True\" and number_boolean ==\"True\" and special_boolean ==\"False\" and unique_password ==\"True\":\n",
    "            stored_password.append(random.sample(letter_and_number))\n",
    "        elif letter_boolean ==\"True\" and number_boolean ==\"True\" and special_boolean ==\"False\" and unique_password ==\"False\":\n",
    "            stored_password.append(random.choice(letter_and_number))\n",
    "            \n",
    "        elif letter_boolean ==\"True\" and special_boolean ==\"True\" and number_boolean ==\"False\" and unique_password ==\"True\":\n",
    "            stored_password.append(random.sample(letter_and_special))\n",
    "        elif letter_boolean ==\"True\" and special_boolean ==\"True\" and number_boolean ==\"False\" and unique_password ==\"False\":\n",
    "            stored_password.append(random.choice(letter_and_special)) \n",
    "            \n",
    "        elif number_boolean ==\"True\" and special_boolean ==\"True\" and letter_boolean ==\"False\" and unique_password ==\"True\":\n",
    "            stored_password.append(random.sample(number_and_special))\n",
    "        elif number_boolean ==\"True\" and special_boolean ==\"True\" and letter_boolean ==\"False\" and unique_password ==\"False\":\n",
    "            stored_password.append(random.choice(number_and_special))    \n",
    "        \n",
    "\n",
    "    final_password = \"\".join(random_password())\n",
    "    return final_password\n"
   ]
  },
  {
   "cell_type": "code",
   "execution_count": 19,
   "metadata": {},
   "outputs": [
    {
     "name": "stdout",
     "output_type": "stream",
     "text": [
      "Your strong and randomly generated password is: <function random_password at 0x10773fd90>\n"
     ]
    }
   ],
   "source": [
    "print(\"Your strong and randomly generated password is:\", random_password)"
   ]
  },
  {
   "cell_type": "code",
   "execution_count": null,
   "metadata": {},
   "outputs": [],
   "source": []
  }
 ],
 "metadata": {
  "kernelspec": {
   "display_name": "Python 3",
   "language": "python",
   "name": "python3"
  },
  "language_info": {
   "codemirror_mode": {
    "name": "ipython",
    "version": 3
   },
   "file_extension": ".py",
   "mimetype": "text/x-python",
   "name": "python",
   "nbconvert_exporter": "python",
   "pygments_lexer": "ipython3",
   "version": "3.7.3"
  }
 },
 "nbformat": 4,
 "nbformat_minor": 2
}
