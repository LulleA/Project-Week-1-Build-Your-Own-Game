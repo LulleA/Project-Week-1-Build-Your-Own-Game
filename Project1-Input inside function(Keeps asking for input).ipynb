{
 "cells": [
  {
   "cell_type": "code",
   "execution_count": 10,
   "metadata": {},
   "outputs": [],
   "source": [
    "import random\n",
    "import string"
   ]
  },
  {
   "cell_type": "code",
   "execution_count": 14,
   "metadata": {},
   "outputs": [],
   "source": [
    "def random_password():\n",
    "    password_length = int(input(\"Input the number of characters for your password: \"))\n",
    "    letter_boolean = input(\"Do you want letters in your password? True or False? (Caps sensitive) \" )\n",
    "    number_boolean = input(\"Do you want numbers in your password? True or False? (Caps sensitive) \" )\n",
    "    special_boolean = input(\"Do you want special characters in your password? True or False? (Caps sensitive) \" )\n",
    "    unique_password = input(\"Do you only want unique characters in your password? True or False? (Caps sensitive) \" )\n",
    "\n",
    "    stored_password = []\n",
    "    all_characters = string.ascii_letters + string.digits + string.punctuation\n",
    "    letter_and_number = string.ascii_letters + string.digits\n",
    "    letter_and_special = string.ascii_letters + string.punctuation\n",
    "    number_and_special = string.digits + string.punctuation\n",
    "    \n",
    "    for i in range(password_length):\n",
    "        #check if each possible combination of booleans are true or false\n",
    "        if letter_boolean == \"True\" and special_boolean == \"True\" and number_boolean == \"True\":\n",
    "            if unique_password == \"True\":\n",
    "                stored_password.append(random.sample(all_characters))            \n",
    "            else:\n",
    "                stored_password.append(random.choice(all_characters))\n",
    "            \n",
    "        elif letter_boolean == \"True\" and special_boolean == \"False\" and number_boolean == \"True\":\n",
    "            if unique_password == \"True\":\n",
    "                stored_password.append(random.sample(letter_and_number))\n",
    "            else:\n",
    "                stored_password.append(random.choice(all_characters))\n",
    "                \n",
    "        elif letter_boolean == \"True\" and special_boolean == \"True\" and number_boolean == \"False\":\n",
    "            if unique_password == \"True\":\n",
    "                stored_password.append(random.sample(letter_and_special))\n",
    "            else:\n",
    "                stored_password.append(random.choice(letter_and_special)) \n",
    "            \n",
    "        elif letter_boolean ==\"False\" and special_boolean ==\"True\" and number_boolean ==\"True\":\n",
    "            if unique_password == \"True\":\n",
    "                stored_password.append(random.sample(number_and_special))\n",
    "            else:\n",
    "                stored_password.append(random.choice(number_and_special)) \n",
    "\n",
    "    final_password = \"\".join(random_password())\n",
    "    return final_password\n",
    "#number_boolean == \"True\" and special_boolean == \"True\" and letter_boolean == \"False\" and unique_password == \"True\":\n"
   ]
  },
  {
   "cell_type": "code",
   "execution_count": 15,
   "metadata": {},
   "outputs": [
    {
     "name": "stdout",
     "output_type": "stream",
     "text": [
      "Input the number of characters for your password: 10\n",
      "Do you want letters in your password? True or False? (Caps sensitive) True\n",
      "Do you want numbers in your password? True or False? (Caps sensitive) False\n",
      "Do you want special characters in your password? True or False? (Caps sensitive) True\n",
      "Do you only want unique characters in your password? True or False? (Caps sensitive) False\n",
      "Input the number of characters for your password: 0\n",
      "Do you want letters in your password? True or False? (Caps sensitive) \n",
      "Do you want numbers in your password? True or False? (Caps sensitive) \n",
      "Do you want special characters in your password? True or False? (Caps sensitive) \n",
      "Do you only want unique characters in your password? True or False? (Caps sensitive) \n",
      "Input the number of characters for your password: \n"
     ]
    },
    {
     "ename": "ValueError",
     "evalue": "invalid literal for int() with base 10: ''",
     "output_type": "error",
     "traceback": [
      "\u001b[0;31m---------------------------------------------------------------------------\u001b[0m",
      "\u001b[0;31mValueError\u001b[0m                                Traceback (most recent call last)",
      "\u001b[0;32m<ipython-input-15-b4b2eef31ba6>\u001b[0m in \u001b[0;36m<module>\u001b[0;34m\u001b[0m\n\u001b[0;32m----> 1\u001b[0;31m \u001b[0mprint\u001b[0m\u001b[0;34m(\u001b[0m\u001b[0mrandom_password\u001b[0m\u001b[0;34m(\u001b[0m\u001b[0;34m)\u001b[0m\u001b[0;34m)\u001b[0m\u001b[0;34m\u001b[0m\u001b[0;34m\u001b[0m\u001b[0m\n\u001b[0m",
      "\u001b[0;32m<ipython-input-14-403db2db0880>\u001b[0m in \u001b[0;36mrandom_password\u001b[0;34m()\u001b[0m\n\u001b[1;32m     38\u001b[0m                 \u001b[0mstored_password\u001b[0m\u001b[0;34m.\u001b[0m\u001b[0mappend\u001b[0m\u001b[0;34m(\u001b[0m\u001b[0mrandom\u001b[0m\u001b[0;34m.\u001b[0m\u001b[0mchoice\u001b[0m\u001b[0;34m(\u001b[0m\u001b[0mnumber_and_special\u001b[0m\u001b[0;34m)\u001b[0m\u001b[0;34m)\u001b[0m\u001b[0;34m\u001b[0m\u001b[0;34m\u001b[0m\u001b[0m\n\u001b[1;32m     39\u001b[0m \u001b[0;34m\u001b[0m\u001b[0m\n\u001b[0;32m---> 40\u001b[0;31m     \u001b[0mfinal_password\u001b[0m \u001b[0;34m=\u001b[0m \u001b[0;34m\"\"\u001b[0m\u001b[0;34m.\u001b[0m\u001b[0mjoin\u001b[0m\u001b[0;34m(\u001b[0m\u001b[0mrandom_password\u001b[0m\u001b[0;34m(\u001b[0m\u001b[0;34m)\u001b[0m\u001b[0;34m)\u001b[0m\u001b[0;34m\u001b[0m\u001b[0;34m\u001b[0m\u001b[0m\n\u001b[0m\u001b[1;32m     41\u001b[0m     \u001b[0;32mreturn\u001b[0m \u001b[0mfinal_password\u001b[0m\u001b[0;34m\u001b[0m\u001b[0;34m\u001b[0m\u001b[0m\n\u001b[1;32m     42\u001b[0m \u001b[0;31m#number_boolean == \"True\" and special_boolean == \"True\" and letter_boolean == \"False\" and unique_password == \"True\":\u001b[0m\u001b[0;34m\u001b[0m\u001b[0;34m\u001b[0m\u001b[0;34m\u001b[0m\u001b[0m\n",
      "\u001b[0;32m<ipython-input-14-403db2db0880>\u001b[0m in \u001b[0;36mrandom_password\u001b[0;34m()\u001b[0m\n\u001b[1;32m     38\u001b[0m                 \u001b[0mstored_password\u001b[0m\u001b[0;34m.\u001b[0m\u001b[0mappend\u001b[0m\u001b[0;34m(\u001b[0m\u001b[0mrandom\u001b[0m\u001b[0;34m.\u001b[0m\u001b[0mchoice\u001b[0m\u001b[0;34m(\u001b[0m\u001b[0mnumber_and_special\u001b[0m\u001b[0;34m)\u001b[0m\u001b[0;34m)\u001b[0m\u001b[0;34m\u001b[0m\u001b[0;34m\u001b[0m\u001b[0m\n\u001b[1;32m     39\u001b[0m \u001b[0;34m\u001b[0m\u001b[0m\n\u001b[0;32m---> 40\u001b[0;31m     \u001b[0mfinal_password\u001b[0m \u001b[0;34m=\u001b[0m \u001b[0;34m\"\"\u001b[0m\u001b[0;34m.\u001b[0m\u001b[0mjoin\u001b[0m\u001b[0;34m(\u001b[0m\u001b[0mrandom_password\u001b[0m\u001b[0;34m(\u001b[0m\u001b[0;34m)\u001b[0m\u001b[0;34m)\u001b[0m\u001b[0;34m\u001b[0m\u001b[0;34m\u001b[0m\u001b[0m\n\u001b[0m\u001b[1;32m     41\u001b[0m     \u001b[0;32mreturn\u001b[0m \u001b[0mfinal_password\u001b[0m\u001b[0;34m\u001b[0m\u001b[0;34m\u001b[0m\u001b[0m\n\u001b[1;32m     42\u001b[0m \u001b[0;31m#number_boolean == \"True\" and special_boolean == \"True\" and letter_boolean == \"False\" and unique_password == \"True\":\u001b[0m\u001b[0;34m\u001b[0m\u001b[0;34m\u001b[0m\u001b[0;34m\u001b[0m\u001b[0m\n",
      "\u001b[0;32m<ipython-input-14-403db2db0880>\u001b[0m in \u001b[0;36mrandom_password\u001b[0;34m()\u001b[0m\n\u001b[1;32m      1\u001b[0m \u001b[0;32mdef\u001b[0m \u001b[0mrandom_password\u001b[0m\u001b[0;34m(\u001b[0m\u001b[0;34m)\u001b[0m\u001b[0;34m:\u001b[0m\u001b[0;34m\u001b[0m\u001b[0;34m\u001b[0m\u001b[0m\n\u001b[0;32m----> 2\u001b[0;31m     \u001b[0mpassword_length\u001b[0m \u001b[0;34m=\u001b[0m \u001b[0mint\u001b[0m\u001b[0;34m(\u001b[0m\u001b[0minput\u001b[0m\u001b[0;34m(\u001b[0m\u001b[0;34m\"Input the number of characters for your password: \"\u001b[0m\u001b[0;34m)\u001b[0m\u001b[0;34m)\u001b[0m\u001b[0;34m\u001b[0m\u001b[0;34m\u001b[0m\u001b[0m\n\u001b[0m\u001b[1;32m      3\u001b[0m     \u001b[0mletter_boolean\u001b[0m \u001b[0;34m=\u001b[0m \u001b[0minput\u001b[0m\u001b[0;34m(\u001b[0m\u001b[0;34m\"Do you want letters in your password? True or False? (Caps sensitive) \"\u001b[0m \u001b[0;34m)\u001b[0m\u001b[0;34m\u001b[0m\u001b[0;34m\u001b[0m\u001b[0m\n\u001b[1;32m      4\u001b[0m     \u001b[0mnumber_boolean\u001b[0m \u001b[0;34m=\u001b[0m \u001b[0minput\u001b[0m\u001b[0;34m(\u001b[0m\u001b[0;34m\"Do you want numbers in your password? True or False? (Caps sensitive) \"\u001b[0m \u001b[0;34m)\u001b[0m\u001b[0;34m\u001b[0m\u001b[0;34m\u001b[0m\u001b[0m\n\u001b[1;32m      5\u001b[0m     \u001b[0mspecial_boolean\u001b[0m \u001b[0;34m=\u001b[0m \u001b[0minput\u001b[0m\u001b[0;34m(\u001b[0m\u001b[0;34m\"Do you want special characters in your password? True or False? (Caps sensitive) \"\u001b[0m \u001b[0;34m)\u001b[0m\u001b[0;34m\u001b[0m\u001b[0;34m\u001b[0m\u001b[0m\n",
      "\u001b[0;31mValueError\u001b[0m: invalid literal for int() with base 10: ''"
     ]
    }
   ],
   "source": [
    "print(random_password())"
   ]
  },
  {
   "cell_type": "code",
   "execution_count": null,
   "metadata": {},
   "outputs": [],
   "source": []
  }
 ],
 "metadata": {
  "kernelspec": {
   "display_name": "Python 3",
   "language": "python",
   "name": "python3"
  },
  "language_info": {
   "codemirror_mode": {
    "name": "ipython",
    "version": 3
   },
   "file_extension": ".py",
   "mimetype": "text/x-python",
   "name": "python",
   "nbconvert_exporter": "python",
   "pygments_lexer": "ipython3",
   "version": "3.7.3"
  }
 },
 "nbformat": 4,
 "nbformat_minor": 2
}
